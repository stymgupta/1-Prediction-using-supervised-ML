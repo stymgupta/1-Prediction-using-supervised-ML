{
  "nbformat": 4,
  "nbformat_minor": 0,
  "metadata": {
    "colab": {
      "name": "Task1.ipynb",
      "provenance": [],
      "collapsed_sections": [],
      "authorship_tag": "ABX9TyMzHjC9kdCXhcS4DjAgOPWB",
      "include_colab_link": true
    },
    "kernelspec": {
      "name": "python3",
      "display_name": "Python 3"
    },
    "language_info": {
      "name": "python"
    }
  },
  "cells": [
    {
      "cell_type": "markdown",
      "metadata": {
        "id": "view-in-github",
        "colab_type": "text"
      },
      "source": [
        "<a href=\"https://colab.research.google.com/github/stymgupta/1-Prediction-using-supervised-ML/blob/main/Task1.ipynb\" target=\"_parent\"><img src=\"https://colab.research.google.com/assets/colab-badge.svg\" alt=\"Open In Colab\"/></a>"
      ]
    },
    {
      "cell_type": "markdown",
      "metadata": {
        "id": "fzOaU1SQVdWg"
      },
      "source": [
        "**Task 1: Prediction using Supervised ML**\n",
        "\n",
        "**Problem: Predict the percentage of an student based on the no. of study hours. What will be predicted score if a student studies for 9.25 hrs/ day?**\n",
        "\n",
        "**Author: Vaibhav Kumar**"
      ]
    },
    {
      "cell_type": "markdown",
      "metadata": {
        "id": "2hW5jPj3Sxwg"
      },
      "source": [
        "### **Importing the Dependencies**"
      ]
    },
    {
      "cell_type": "code",
      "metadata": {
        "id": "jp5vEOpBdGDb"
      },
      "source": [
        "import numpy as np\n",
        "import pandas as pd\n",
        "import matplotlib.pyplot as plt\n",
        "%matplotlib inline\n",
        "import seaborn as sns\n",
        "import sklearn\n",
        "from sklearn.linear_model import LinearRegression\n",
        "from sklearn.model_selection import train_test_split"
      ],
      "execution_count": 11,
      "outputs": []
    },
    {
      "cell_type": "markdown",
      "metadata": {
        "id": "YgSeJuFPiq50"
      },
      "source": [
        "**Data Collection From Link**"
      ]
    },
    {
      "cell_type": "code",
      "metadata": {
        "id": "2mIjG2hJdvZC",
        "colab": {
          "base_uri": "https://localhost:8080/"
        },
        "outputId": "598ce22d-6217-44cb-b20c-ce9a9e22a8e9"
      },
      "source": [
        "url = \"http://bit.ly/w-data\"\n",
        "ds = pd.read_csv(url)\n",
        "print(\"Data is Imported\")"
      ],
      "execution_count": 13,
      "outputs": [
        {
          "output_type": "stream",
          "text": [
            "Data is Imported\n"
          ],
          "name": "stdout"
        }
      ]
    },
    {
      "cell_type": "code",
      "metadata": {
        "colab": {
          "base_uri": "https://localhost:8080/"
        },
        "id": "4M5FumTlmCxG",
        "outputId": "d03b5ebb-1139-4adf-cfd1-95bc8ff973ea"
      },
      "source": [
        "ds.shape"
      ],
      "execution_count": 14,
      "outputs": [
        {
          "output_type": "execute_result",
          "data": {
            "text/plain": [
              "(25, 2)"
            ]
          },
          "metadata": {
            "tags": []
          },
          "execution_count": 14
        }
      ]
    },
    {
      "cell_type": "markdown",
      "metadata": {
        "id": "PjByjEhJmb96"
      },
      "source": [
        "**Print Few Rows of Dataset using head function**"
      ]
    },
    {
      "cell_type": "code",
      "metadata": {
        "colab": {
          "base_uri": "https://localhost:8080/",
          "height": 204
        },
        "id": "Vtxqh9-Gmk8X",
        "outputId": "0b96d448-0e6b-42c2-9921-0a8bacaeeac3"
      },
      "source": [
        "ds.head()"
      ],
      "execution_count": 15,
      "outputs": [
        {
          "output_type": "execute_result",
          "data": {
            "text/html": [
              "<div>\n",
              "<style scoped>\n",
              "    .dataframe tbody tr th:only-of-type {\n",
              "        vertical-align: middle;\n",
              "    }\n",
              "\n",
              "    .dataframe tbody tr th {\n",
              "        vertical-align: top;\n",
              "    }\n",
              "\n",
              "    .dataframe thead th {\n",
              "        text-align: right;\n",
              "    }\n",
              "</style>\n",
              "<table border=\"1\" class=\"dataframe\">\n",
              "  <thead>\n",
              "    <tr style=\"text-align: right;\">\n",
              "      <th></th>\n",
              "      <th>Hours</th>\n",
              "      <th>Scores</th>\n",
              "    </tr>\n",
              "  </thead>\n",
              "  <tbody>\n",
              "    <tr>\n",
              "      <th>0</th>\n",
              "      <td>2.5</td>\n",
              "      <td>21</td>\n",
              "    </tr>\n",
              "    <tr>\n",
              "      <th>1</th>\n",
              "      <td>5.1</td>\n",
              "      <td>47</td>\n",
              "    </tr>\n",
              "    <tr>\n",
              "      <th>2</th>\n",
              "      <td>3.2</td>\n",
              "      <td>27</td>\n",
              "    </tr>\n",
              "    <tr>\n",
              "      <th>3</th>\n",
              "      <td>8.5</td>\n",
              "      <td>75</td>\n",
              "    </tr>\n",
              "    <tr>\n",
              "      <th>4</th>\n",
              "      <td>3.5</td>\n",
              "      <td>30</td>\n",
              "    </tr>\n",
              "  </tbody>\n",
              "</table>\n",
              "</div>"
            ],
            "text/plain": [
              "   Hours  Scores\n",
              "0    2.5      21\n",
              "1    5.1      47\n",
              "2    3.2      27\n",
              "3    8.5      75\n",
              "4    3.5      30"
            ]
          },
          "metadata": {
            "tags": []
          },
          "execution_count": 15
        }
      ]
    },
    {
      "cell_type": "markdown",
      "metadata": {
        "id": "Lw5VfkPqKg-9"
      },
      "source": [
        "**Print a plot and visualized it with respect of x and y axis. Here, x represents Scores and y represents Hours.**"
      ]
    },
    {
      "cell_type": "code",
      "metadata": {
        "colab": {
          "base_uri": "https://localhost:8080/",
          "height": 295
        },
        "id": "BLRX_SXGmbOa",
        "outputId": "04d7ebdb-17f1-4277-e65b-b799f9c7ab1d"
      },
      "source": [
        "#Plottting the distribution of scores\n",
        "\n",
        "ds.plot(x = \"Scores\", y=\"Hours\", label=\"stars\", style=\"*\")\n",
        "plt.title(\"Hours v/s Percentage\")\n",
        "plt.xlabel(\"Hours Studied\")\n",
        "plt.ylabel(\"Percentage Score\")\n",
        "\n",
        "plt.show()"
      ],
      "execution_count": 16,
      "outputs": [
        {
          "output_type": "display_data",
          "data": {
            "image/png": "[encoded data removed]",
            "text/plain": [
              "<Figure size 432x288 with 1 Axes>"
            ]
          },
          "metadata": {
            "tags": [],
            "needs_background": "light"
          }
        }
      ]
    },
    {
      "cell_type": "markdown",
      "metadata": {
        "id": "6LF5fBgmc4J5"
      },
      "source": [
        "**Vizualisation through Bar Graph**"
      ]
    },
    {
      "cell_type": "code",
      "metadata": {
        "colab": {
          "base_uri": "https://localhost:8080/",
          "height": 721
        },
        "id": "b9CDek--dI6d",
        "outputId": "140ca456-b4fa-4a47-ce98-c048deede980"
      },
      "source": [
        "sns.displot(ds[\"Scores\"])\n",
        "sns.displot(ds[\"Hours\"])\n",
        "plt.show()"
      ],
      "execution_count": 17,
      "outputs": [
        {
          "output_type": "display_data",
          "data": {
            "image/png": "[encoded data removed]",
            "text/plain": [
              "<Figure size 360x360 with 1 Axes>"
            ]
          },
          "metadata": {
            "tags": [],
            "needs_background": "light"
          }
        },
        {
          "output_type": "display_data",
          "data": {
            "image/png": "[encoded data removed]",
            "text/plain": [
              "<Figure size 360x360 with 1 Axes>"
            ]
          },
          "metadata": {
            "tags": [],
            "needs_background": "light"
          }
        }
      ]
    },
    {
      "cell_type": "markdown",
      "metadata": {
        "id": "ov6f-BPTQ3xz"
      },
      "source": [
        "**Check Missing Values**"
      ]
    },
    {
      "cell_type": "code",
      "metadata": {
        "colab": {
          "base_uri": "https://localhost:8080/"
        },
        "id": "J9ur6A4dmMgH",
        "outputId": "ba3bc4c0-c2a4-4632-8c04-473436f6c21a"
      },
      "source": [
        "ds.isnull().sum()"
      ],
      "execution_count": 18,
      "outputs": [
        {
          "output_type": "execute_result",
          "data": {
            "text/plain": [
              "Hours     0\n",
              "Scores    0\n",
              "dtype: int64"
            ]
          },
          "metadata": {
            "tags": []
          },
          "execution_count": 18
        }
      ]
    },
    {
      "cell_type": "markdown",
      "metadata": {
        "id": "PmJFZTJ7RwEV"
      },
      "source": [
        "**Selecting Row & Column by their Position**"
      ]
    },
    {
      "cell_type": "code",
      "metadata": {
        "colab": {
          "base_uri": "https://localhost:8080/"
        },
        "id": "hzSfoavzRQj_",
        "outputId": "a581c3b6-eccc-4e55-b84e-c7db8833b97c"
      },
      "source": [
        "X= ds.iloc[:,:-1].values\n",
        "Y= ds.iloc[:,1].values\n",
        "Y"
      ],
      "execution_count": 19,
      "outputs": [
        {
          "output_type": "execute_result",
          "data": {
            "text/plain": [
              "array([21, 47, 27, 75, 30, 20, 88, 60, 81, 25, 85, 62, 41, 42, 17, 95, 30,\n",
              "       24, 67, 69, 30, 54, 35, 76, 86])"
            ]
          },
          "metadata": {
            "tags": []
          },
          "execution_count": 19
        }
      ]
    },
    {
      "cell_type": "markdown",
      "metadata": {
        "id": "dThDutsbTCHA"
      },
      "source": [
        "**Training the Model and Plotting The Regression Line**"
      ]
    },
    {
      "cell_type": "code",
      "metadata": {
        "id": "YLEhD-a8SK48"
      },
      "source": [
        "#Splitting the data\n",
        "Y_train, Y_test, X_train, X_test = train_test_split(Y,X,test_size=0.2, random_state=0)\n",
        "#The train-test split is a technique for evaluating the performance of a machine learning algorithm."
      ],
      "execution_count": 20,
      "outputs": []
    },
    {
      "cell_type": "code",
      "metadata": {
        "colab": {
          "base_uri": "https://localhost:8080/"
        },
        "id": "9jca03MJT43n",
        "outputId": "fbc515d0-de1a-4c24-a1a9-fadc2e703103"
      },
      "source": [
        "regressor = LinearRegression()\n",
        "regressor.fit(X_train,Y_train)\n",
        "print(\"Training Completed..\")"
      ],
      "execution_count": 21,
      "outputs": [
        {
          "output_type": "stream",
          "text": [
            "Training Completed..\n"
          ],
          "name": "stdout"
        }
      ]
    },
    {
      "cell_type": "code",
      "metadata": {
        "colab": {
          "base_uri": "https://localhost:8080/",
          "height": 265
        },
        "id": "a3pnMB-rVWAE",
        "outputId": "51f4a52e-e6f0-43f3-ce00-15c4c6c5dfee"
      },
      "source": [
        "#Plotting the regression line\n",
        "line = regressor.coef_*X+regressor.intercept_\n",
        "plt.scatter(X,Y)\n",
        "plt.plot(X,line, color='y');\n",
        "plt.show()"
      ],
      "execution_count": 22,
      "outputs": [
        {
          "output_type": "display_data",
          "data": {
            "image/png": "[encoded data removed]",
            "text/plain": [
              "<Figure size 432x288 with 1 Axes>"
            ]
          },
          "metadata": {
            "tags": [],
            "needs_background": "light"
          }
        }
      ]
    },
    {
      "cell_type": "code",
      "metadata": {
        "colab": {
          "base_uri": "https://localhost:8080/"
        },
        "id": "jxyD9YzSWFQC",
        "outputId": "1d98e5a8-e14c-4865-a769-ffe40482b884"
      },
      "source": [
        "#Prediction Making\n",
        "print(X_test)\n",
        "Y_predict = regressor.predict(X_test)"
      ],
      "execution_count": 23,
      "outputs": [
        {
          "output_type": "stream",
          "text": [
            "[[1.5]\n",
            " [3.2]\n",
            " [7.4]\n",
            " [2.5]\n",
            " [5.9]]\n"
          ],
          "name": "stdout"
        }
      ]
    },
    {
      "cell_type": "markdown",
      "metadata": {
        "id": "7Z7ix_W5YdBS"
      },
      "source": [
        "**Compair the prediction model result**"
      ]
    },
    {
      "cell_type": "code",
      "metadata": {
        "colab": {
          "base_uri": "https://localhost:8080/",
          "height": 204
        },
        "id": "LAT433TvXPPt",
        "outputId": "f4c95d57-7fb3-46e7-d2cd-66af5eadb8b6"
      },
      "source": [
        "ds =pd.DataFrame({'Actual': Y_test, 'Predicted':Y_predict})\n",
        "ds"
      ],
      "execution_count": 24,
      "outputs": [
        {
          "output_type": "execute_result",
          "data": {
            "text/html": [
              "<div>\n",
              "<style scoped>\n",
              "    .dataframe tbody tr th:only-of-type {\n",
              "        vertical-align: middle;\n",
              "    }\n",
              "\n",
              "    .dataframe tbody tr th {\n",
              "        vertical-align: top;\n",
              "    }\n",
              "\n",
              "    .dataframe thead th {\n",
              "        text-align: right;\n",
              "    }\n",
              "</style>\n",
              "<table border=\"1\" class=\"dataframe\">\n",
              "  <thead>\n",
              "    <tr style=\"text-align: right;\">\n",
              "      <th></th>\n",
              "      <th>Actual</th>\n",
              "      <th>Predicted</th>\n",
              "    </tr>\n",
              "  </thead>\n",
              "  <tbody>\n",
              "    <tr>\n",
              "      <th>0</th>\n",
              "      <td>20</td>\n",
              "      <td>16.884145</td>\n",
              "    </tr>\n",
              "    <tr>\n",
              "      <th>1</th>\n",
              "      <td>27</td>\n",
              "      <td>33.732261</td>\n",
              "    </tr>\n",
              "    <tr>\n",
              "      <th>2</th>\n",
              "      <td>69</td>\n",
              "      <td>75.357018</td>\n",
              "    </tr>\n",
              "    <tr>\n",
              "      <th>3</th>\n",
              "      <td>30</td>\n",
              "      <td>26.794801</td>\n",
              "    </tr>\n",
              "    <tr>\n",
              "      <th>4</th>\n",
              "      <td>62</td>\n",
              "      <td>60.491033</td>\n",
              "    </tr>\n",
              "  </tbody>\n",
              "</table>\n",
              "</div>"
            ],
            "text/plain": [
              "   Actual  Predicted\n",
              "0      20  16.884145\n",
              "1      27  33.732261\n",
              "2      69  75.357018\n",
              "3      30  26.794801\n",
              "4      62  60.491033"
            ]
          },
          "metadata": {
            "tags": []
          },
          "execution_count": 24
        }
      ]
    },
    {
      "cell_type": "code",
      "metadata": {
        "colab": {
          "base_uri": "https://localhost:8080/",
          "height": 295
        },
        "id": "RHBTf5mPY3QV",
        "outputId": "ecc004a3-357d-480f-83b8-ee1dbd3ea39c"
      },
      "source": [
        "sns.regplot(x=Y_test, y=Y_predict)\n",
        "plt.xlabel(\"Hours\")\n",
        "plt.ylabel(\"Scores\")\n",
        "plt.title(\"REGRESSION PLOT\")\n",
        "plt.show()"
      ],
      "execution_count": null,
      "outputs": [
        {
          "output_type": "display_data",
          "data": {
            "image/png": "[encoded data removed]",
            "text/plain": [
              "<Figure size 432x288 with 1 Axes>"
            ]
          },
          "metadata": {
            "tags": [],
            "needs_background": "light"
          }
        }
      ]
    },
    {
      "cell_type": "markdown",
      "metadata": {
        "id": "PEk5dGzOa7T1"
      },
      "source": [
        "**Check the performance of training and testing score**"
      ]
    },
    {
      "cell_type": "code",
      "metadata": {
        "id": "D5labFygZrm2",
        "colab": {
          "base_uri": "https://localhost:8080/"
        },
        "outputId": "1436d06e-a4eb-475f-8181-ca601ef8be33"
      },
      "source": [
        "print(\"Training Score:\",regressor.score(X_train,Y_train))\n",
        "print(\"Test Score:\",regressor.score(X_test,Y_test))"
      ],
      "execution_count": 25,
      "outputs": [
        {
          "output_type": "stream",
          "text": [
            "Training Score: 0.9515510725211553\n",
            "Test Score: 0.9454906892105354\n"
          ],
          "name": "stdout"
        }
      ]
    },
    {
      "cell_type": "markdown",
      "metadata": {
        "id": "6X-90Tx_dsmC"
      },
      "source": [
        "**Plotting a bar graph to depict the difference b/w actual and predicted value**"
      ]
    },
    {
      "cell_type": "code",
      "metadata": {
        "colab": {
          "base_uri": "https://localhost:8080/",
          "height": 316
        },
        "id": "c2_mSkAJcHAl",
        "outputId": "c786b15e-4d9d-4d15-d853-1b7418b44f78"
      },
      "source": [
        "ds.plot(kind='bar',figsize=(5,5))\n",
        "plt.grid(which='major',linewidth='0.5',color='blue')\n",
        "plt.grid(which='minor',linewidth='0.5',color='red')\n",
        "plt.show()"
      ],
      "execution_count": 26,
      "outputs": [
        {
          "output_type": "display_data",
          "data": {
            "image/png": "[encoded data removed]",
            "text/plain": [
              "<Figure size 360x360 with 1 Axes>"
            ]
          },
          "metadata": {
            "tags": [],
            "needs_background": "light"
          }
        }
      ]
    },
    {
      "cell_type": "markdown",
      "metadata": {
        "id": "_onaLgeCdXvQ"
      },
      "source": [
        "**Prediction of score when student studies for 9.25hrs/day**\n",
        "\n"
      ]
    },
    {
      "cell_type": "code",
      "metadata": {
        "colab": {
          "base_uri": "https://localhost:8080/"
        },
        "id": "_RxYSot2f2DK",
        "outputId": "19ca9165-13bd-44c3-dd32-0c2bd5115395"
      },
      "source": [
        "Hours=9.25\n",
        "prediction = regressor.predict([[9.25]])\n",
        "print(\"Hours = {}\".format(Hours))\n",
        "print(\"Score:\",prediction[0])"
      ],
      "execution_count": 30,
      "outputs": [
        {
          "output_type": "stream",
          "text": [
            "Hours = 9.25\n",
            "Score: 93.69173248737539\n"
          ],
          "name": "stdout"
        }
      ]
    },
    {
      "cell_type": "markdown",
      "metadata": {
        "id": "b7qYHygkhc4q"
      },
      "source": [
        "**Mean Absolute Error**"
      ]
    },
    {
      "cell_type": "code",
      "metadata": {
        "colab": {
          "base_uri": "https://localhost:8080/"
        },
        "id": "Dw4SmVVugcpm",
        "outputId": "f1d63923-8ec5-497a-9b99-285b72a1a7ec"
      },
      "source": [
        "from sklearn import metrics\n",
        "print(\"Mean Absolute Error:\", metrics.mean_absolute_error(Y_test,Y_predict))"
      ],
      "execution_count": 31,
      "outputs": [
        {
          "output_type": "stream",
          "text": [
            "Mean Absolute Error: 4.183859899002982\n"
          ],
          "name": "stdout"
        }
      ]
    },
    {
      "cell_type": "markdown",
      "metadata": {
        "id": "nYZ0cf4liKTc"
      },
      "source": [
        "**Conclusion: When a student studies for 9.25 hours per day. The prediction score will be 93.7%**\n",
        "\n",
        "# **THANKYOU**"
      ]
    },
    {
      "cell_type": "code",
      "metadata": {
        "id": "Xt3Omtrlh8Ji"
      },
      "source": [
        ""
      ],
      "execution_count": null,
      "outputs": []
    }
  ]
}